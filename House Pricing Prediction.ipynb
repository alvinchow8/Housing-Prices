{
 "cells": [
  {
   "cell_type": "code",
   "execution_count": 1,
   "metadata": {
    "collapsed": true
   },
   "outputs": [],
   "source": [
    "import pandas as pd\n",
    "import numpy as np"
   ]
  },
  {
   "cell_type": "code",
   "execution_count": 20,
   "metadata": {
    "collapsed": true
   },
   "outputs": [],
   "source": [
    "import numpy as np\n",
    "df = pd.read_csv(\"train.csv\")\n",
    "cols = df.columns\n",
    "num_cols = df._get_numeric_data().columns\n",
    "category_array = list(set(cols) - set(num_cols))\n",
    "len_catarray = len(category_array)\n",
    "for i in range (0,len_catarray):\n",
    "    df[category_array[i]] = pd.Categorical(df[category_array[i]]).codes\n",
    "df.to_csv(\"train_v2.csv\")"
   ]
  },
  {
   "cell_type": "code",
   "execution_count": 21,
   "metadata": {
    "collapsed": true
   },
   "outputs": [],
   "source": [
    "train = pd.read_csv(\"train_v2.csv\")\n",
    "train = train.dropna(how = 'any')\n",
    "train = np.asmatrix(train)\n",
    "y_train = train[:,81]\n",
    "x_train = train[:,2:81]"
   ]
  },
  {
   "cell_type": "code",
   "execution_count": 87,
   "metadata": {
    "collapsed": true,
    "scrolled": true
   },
   "outputs": [],
   "source": [
    "import keras\n",
    "from keras.models import Sequential\n",
    "from keras.layers import Dense, Activation, Dropout, BatchNormalization\n",
    "model = Sequential()\n",
    "model.add(Dense(256,input_dim = 79 ,\n",
    "                activation = 'relu', \n",
    "                kernel_initializer = 'normal'))\n",
    "model.add(Dense(512,\n",
    "                activation = 'relu',\n",
    "                kernel_initializer = 'normal'))\n",
    "model.add(Dense(1024,\n",
    "                activation = 'relu',\n",
    "                kernel_initializer = 'normal'))\n",
    "model.add(Dense(2048,\n",
    "                activation = 'relu',\n",
    "                kernel_initializer = 'normal'))\n",
    "model.add(Dense(1,\n",
    "                activation = 'linear',\n",
    "                kernel_initializer = 'normal',\n",
    "                ))\n",
    "model.compile(loss = 'mse',\n",
    "             optimizer = 'adam')"
   ]
  },
  {
   "cell_type": "code",
   "execution_count": null,
   "metadata": {
    "collapsed": true
   },
   "outputs": [],
   "source": [
    "model.fit(x_train,y_train,epochs = 1000, validation_split = 0.33, batch_size = 30)"
   ]
  },
  {
   "cell_type": "code",
   "execution_count": 75,
   "metadata": {
    "collapsed": true
   },
   "outputs": [],
   "source": [
    "model.save('prediction.h5')"
   ]
  },
  {
   "cell_type": "code",
   "execution_count": 88,
   "metadata": {
    "collapsed": true
   },
   "outputs": [],
   "source": [
    "model.load_weights('prediction.h5')"
   ]
  },
  {
   "cell_type": "code",
   "execution_count": 89,
   "metadata": {},
   "outputs": [
    {
     "name": "stdout",
     "output_type": "stream",
     "text": [
      "Index(['Id', 'MSSubClass', 'LotFrontage', 'LotArea', 'OverallQual',\n",
      "       'OverallCond', 'YearBuilt', 'YearRemodAdd', 'MasVnrArea', 'BsmtFinSF1',\n",
      "       'BsmtFinSF2', 'BsmtUnfSF', 'TotalBsmtSF', '1stFlrSF', '2ndFlrSF',\n",
      "       'LowQualFinSF', 'GrLivArea', 'BsmtFullBath', 'BsmtHalfBath', 'FullBath',\n",
      "       'HalfBath', 'BedroomAbvGr', 'KitchenAbvGr', 'TotRmsAbvGrd',\n",
      "       'Fireplaces', 'GarageYrBlt', 'GarageCars', 'GarageArea', 'WoodDeckSF',\n",
      "       'OpenPorchSF', 'EnclosedPorch', '3SsnPorch', 'ScreenPorch', 'PoolArea',\n",
      "       'MiscVal', 'MoSold', 'YrSold'],\n",
      "      dtype='object')\n"
     ]
    }
   ],
   "source": [
    "import numpy as np\n",
    "df = pd.read_csv(\"test_replaceNA0.csv\")\n",
    "cols = df.columns\n",
    "num_cols = df._get_numeric_data().columns\n",
    "category_array = list(set(cols) - set(num_cols))\n",
    "print (num_cols)\n",
    "len_catarray = len(category_array)\n",
    "for i in range (0,len_catarray):\n",
    "    df[category_array[i]] = pd.Categorical(df[category_array[i]]).codes\n",
    "df.to_csv(\"test_replaceNA0v2.csv\")"
   ]
  },
  {
   "cell_type": "code",
   "execution_count": 90,
   "metadata": {
    "collapsed": true
   },
   "outputs": [],
   "source": [
    "test = pd.read_csv(\"test_replaceNA0v2.csv\")\n",
    "test = np.asmatrix(test)\n",
    "test = test[:,2:81]"
   ]
  },
  {
   "cell_type": "code",
   "execution_count": 91,
   "metadata": {},
   "outputs": [
    {
     "name": "stdout",
     "output_type": "stream",
     "text": [
      "[[ 119216.8359375]\n",
      " [ 464122.59375  ]\n",
      " [ 203327.234375 ]\n",
      " ..., \n",
      " [ 176321.546875 ]\n",
      " [  98685.875    ]\n",
      " [ 231844.046875 ]]\n"
     ]
    }
   ],
   "source": [
    "out = model.predict (test)\n",
    "print (out)\n",
    "out = pd.DataFrame(out)\n",
    "out.to_csv(\"output.csv\")"
   ]
  },
  {
   "cell_type": "code",
   "execution_count": null,
   "metadata": {
    "collapsed": true
   },
   "outputs": [],
   "source": []
  }
 ],
 "metadata": {
  "kernelspec": {
   "display_name": "Python 3",
   "language": "python",
   "name": "python3"
  },
  "language_info": {
   "codemirror_mode": {
    "name": "ipython",
    "version": 3
   },
   "file_extension": ".py",
   "mimetype": "text/x-python",
   "name": "python",
   "nbconvert_exporter": "python",
   "pygments_lexer": "ipython3",
   "version": "3.6.1"
  }
 },
 "nbformat": 4,
 "nbformat_minor": 2
}
